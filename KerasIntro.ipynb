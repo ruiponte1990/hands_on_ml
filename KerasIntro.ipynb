{
 "cells": [
  {
   "cell_type": "code",
   "execution_count": 22,
   "metadata": {},
   "outputs": [],
   "source": [
    "# sklearn has a simple linear perceptron\n",
    "import numpy as np\n",
    "from sklearn.datasets import load_iris\n",
    "from sklearn.linear_model import Perceptron\n",
    "\n",
    "iris=load_iris()\n",
    "x = iris.data[:, (2,3)]\n",
    "y = (iris.target == 0)\n",
    "per_clf = Perceptron()\n",
    "per_clf.fit(x,y)\n",
    "y_pred = per_clf.predict([[2, 0.5]])"
   ]
  },
  {
   "cell_type": "code",
   "execution_count": 23,
   "metadata": {},
   "outputs": [
    {
     "name": "stdout",
     "output_type": "stream",
     "text": [
      "[0 0 3 0 2 7 2 5 5]\n"
     ]
    }
   ],
   "source": [
    "from tensorflow import keras\n",
    "\n",
    "fashion_mnist = keras.datasets.fashion_mnist\n",
    "# data comes split into train and test already\n",
    "(x_train_full, y_train_full), (x_test, y_test) = fashion_mnist.load_data()\n",
    "\n",
    "x_valid, x_train = x_train_full[:5000] / 255.0, x_train_full[5000:] / 255.0 # / 255 to scale pixel values\n",
    "y_valid, y_train = y_train_full[:5000], y_train_full[5000:]\n",
    "\n",
    "class_names = [\"T-shirt/top\", \"Trouser\", \"Pullover\", \n",
    "               \"Dress\", \"Coat\", \"Sandal\", \"Shirt\", \n",
    "               \"Sneaker\", \"Bag\", \"Ankle boot\"]\n",
    "\n",
    "print(y_valid[1:10])\n"
   ]
  },
  {
   "cell_type": "code",
   "execution_count": 24,
   "metadata": {},
   "outputs": [
    {
     "name": "stdout",
     "output_type": "stream",
     "text": [
      "Model: \"sequential_6\"\n",
      "_________________________________________________________________\n",
      "Layer (type)                 Output Shape              Param #   \n",
      "=================================================================\n",
      "flatten_5 (Flatten)          (None, 784)               0         \n",
      "_________________________________________________________________\n",
      "dense_19 (Dense)             (None, 300)               235500    \n",
      "_________________________________________________________________\n",
      "dense_20 (Dense)             (None, 100)               30100     \n",
      "_________________________________________________________________\n",
      "dense_21 (Dense)             (None, 10)                1010      \n",
      "=================================================================\n",
      "Total params: 266,610\n",
      "Trainable params: 266,610\n",
      "Non-trainable params: 0\n",
      "_________________________________________________________________\n"
     ]
    }
   ],
   "source": [
    "# building the network\n",
    "\n",
    "model = keras.models.Sequential() # sequential the simplest kind of NN\n",
    "model.add(keras.layers.Flatten(input_shape=[28,28])) # Flatten layer convets 2D image into 1D array\n",
    "model.add(keras.layers.Dense(300, activation=\"relu\")) # Dense layers manage their own weight matrix for you and\n",
    "model.add(keras.layers.Dense(100, activation=\"relu\")) # Compute W.x + b, these use ReLu activation function\n",
    "# Another dense layer for the output with softmax for final classfification 10 = # of classes\n",
    "model.add(keras.layers.Dense(10, activation=\"softmax\")) \n",
    "\n",
    "# alternatively we can pass all these into sequential as params\n",
    "\n",
    "model = keras.models.Sequential([\n",
    "    keras.layers.Flatten(input_shape=[28,28]),\n",
    "    keras.layers.Dense(300, activation=\"relu\"),\n",
    "    keras.layers.Dense(100, activation=\"relu\"),\n",
    "    keras.layers.Dense(10, activation=\"softmax\")\n",
    "])\n",
    "\n",
    "model.summary()"
   ]
  },
  {
   "cell_type": "code",
   "execution_count": 25,
   "metadata": {},
   "outputs": [
    {
     "name": "stdout",
     "output_type": "stream",
     "text": [
      "[<tensorflow.python.keras.layers.core.Flatten object at 0x13e3bf240>, <tensorflow.python.keras.layers.core.Dense object at 0x1471aca20>, <tensorflow.python.keras.layers.core.Dense object at 0x13e417668>, <tensorflow.python.keras.layers.core.Dense object at 0x1471c8048>]\n",
      "dense_19\n"
     ]
    },
    {
     "data": {
      "text/plain": [
       "True"
      ]
     },
     "execution_count": 25,
     "metadata": {},
     "output_type": "execute_result"
    }
   ],
   "source": [
    "print(model.layers)\n",
    "hidden1 = model.layers[1]\n",
    "print(hidden1.name)\n",
    "model.get_layer(hidden1.name) is hidden1"
   ]
  },
  {
   "cell_type": "code",
   "execution_count": 26,
   "metadata": {},
   "outputs": [
    {
     "name": "stdout",
     "output_type": "stream",
     "text": [
      "[[-0.0692279  -0.06050552  0.01229084 ... -0.0580014   0.04952827\n",
      "  -0.01047085]\n",
      " [ 0.02382818  0.03537996 -0.04347699 ...  0.06091744  0.01998483\n",
      "   0.0648745 ]\n",
      " [-0.00396203 -0.00791813 -0.01363686 ...  0.03378983  0.05757326\n",
      "  -0.02738904]\n",
      " ...\n",
      " [ 0.00571486 -0.03526743  0.05519749 ...  0.03107399  0.05601481\n",
      "  -0.03156022]\n",
      " [ 0.05448185 -0.05182195 -0.00108042 ...  0.06774092  0.06570348\n",
      "  -0.04225105]\n",
      " [ 0.00175667  0.02780417 -0.06093802 ...  0.00289954  0.06947821\n",
      "  -0.02149503]]\n",
      "(784, 300)\n",
      "[0. 0. 0. 0. 0. 0. 0. 0. 0. 0. 0. 0. 0. 0. 0. 0. 0. 0. 0. 0. 0. 0. 0. 0.\n",
      " 0. 0. 0. 0. 0. 0. 0. 0. 0. 0. 0. 0. 0. 0. 0. 0. 0. 0. 0. 0. 0. 0. 0. 0.\n",
      " 0. 0. 0. 0. 0. 0. 0. 0. 0. 0. 0. 0. 0. 0. 0. 0. 0. 0. 0. 0. 0. 0. 0. 0.\n",
      " 0. 0. 0. 0. 0. 0. 0. 0. 0. 0. 0. 0. 0. 0. 0. 0. 0. 0. 0. 0. 0. 0. 0. 0.\n",
      " 0. 0. 0. 0. 0. 0. 0. 0. 0. 0. 0. 0. 0. 0. 0. 0. 0. 0. 0. 0. 0. 0. 0. 0.\n",
      " 0. 0. 0. 0. 0. 0. 0. 0. 0. 0. 0. 0. 0. 0. 0. 0. 0. 0. 0. 0. 0. 0. 0. 0.\n",
      " 0. 0. 0. 0. 0. 0. 0. 0. 0. 0. 0. 0. 0. 0. 0. 0. 0. 0. 0. 0. 0. 0. 0. 0.\n",
      " 0. 0. 0. 0. 0. 0. 0. 0. 0. 0. 0. 0. 0. 0. 0. 0. 0. 0. 0. 0. 0. 0. 0. 0.\n",
      " 0. 0. 0. 0. 0. 0. 0. 0. 0. 0. 0. 0. 0. 0. 0. 0. 0. 0. 0. 0. 0. 0. 0. 0.\n",
      " 0. 0. 0. 0. 0. 0. 0. 0. 0. 0. 0. 0. 0. 0. 0. 0. 0. 0. 0. 0. 0. 0. 0. 0.\n",
      " 0. 0. 0. 0. 0. 0. 0. 0. 0. 0. 0. 0. 0. 0. 0. 0. 0. 0. 0. 0. 0. 0. 0. 0.\n",
      " 0. 0. 0. 0. 0. 0. 0. 0. 0. 0. 0. 0. 0. 0. 0. 0. 0. 0. 0. 0. 0. 0. 0. 0.\n",
      " 0. 0. 0. 0. 0. 0. 0. 0. 0. 0. 0. 0.]\n",
      "(300,)\n"
     ]
    }
   ],
   "source": [
    "weights, biases = hidden1.get_weights()\n",
    "print(weights)\n",
    "print(weights.shape)\n",
    "print(biases)\n",
    "print(biases.shape)"
   ]
  },
  {
   "cell_type": "code",
   "execution_count": 27,
   "metadata": {},
   "outputs": [],
   "source": [
    "# after you create your models architechture, use model.compile to specify the loss function, optimizer and metric\n",
    "\n",
    "model.compile(loss=\"sparse_categorical_crossentropy\", optimizer=\"sgd\", metrics=[\"accuracy\"])"
   ]
  },
  {
   "cell_type": "code",
   "execution_count": 28,
   "metadata": {},
   "outputs": [],
   "source": [
    "# different losses for different situations\n",
    "# sparse_categorical_crossentropy for sparse vectors ie [1, 2, 3, 4, 5] as labels\n",
    "# use categorical_crossentropy for 1 hot vectors [[1,0,0],[0,1,0]]\n",
    "# for binary classification go back and use \"sigmoid\" activation and \"binary_crossentropy\" as loss"
   ]
  },
  {
   "cell_type": "code",
   "execution_count": 29,
   "metadata": {},
   "outputs": [
    {
     "name": "stdout",
     "output_type": "stream",
     "text": [
      "Train on 55000 samples, validate on 5000 samples\n",
      "Epoch 1/30\n",
      "55000/55000 [==============================] - 5s 89us/sample - loss: 0.7191 - accuracy: 0.7657 - val_loss: 0.4989 - val_accuracy: 0.8382\n",
      "Epoch 2/30\n",
      "55000/55000 [==============================] - 3s 60us/sample - loss: 0.4885 - accuracy: 0.8301 - val_loss: 0.4410 - val_accuracy: 0.8470\n",
      "Epoch 3/30\n",
      "55000/55000 [==============================] - 3s 60us/sample - loss: 0.4439 - accuracy: 0.8446 - val_loss: 0.4118 - val_accuracy: 0.8590\n",
      "Epoch 4/30\n",
      "55000/55000 [==============================] - 3s 61us/sample - loss: 0.4166 - accuracy: 0.8532 - val_loss: 0.3927 - val_accuracy: 0.8654\n",
      "Epoch 5/30\n",
      "55000/55000 [==============================] - 3s 60us/sample - loss: 0.3957 - accuracy: 0.8617 - val_loss: 0.3794 - val_accuracy: 0.8728\n",
      "Epoch 6/30\n",
      "55000/55000 [==============================] - 3s 61us/sample - loss: 0.3791 - accuracy: 0.8662 - val_loss: 0.3787 - val_accuracy: 0.8696\n",
      "Epoch 7/30\n",
      "55000/55000 [==============================] - 3s 61us/sample - loss: 0.3670 - accuracy: 0.8697 - val_loss: 0.3876 - val_accuracy: 0.8654\n",
      "Epoch 8/30\n",
      "55000/55000 [==============================] - 3s 62us/sample - loss: 0.3562 - accuracy: 0.8735 - val_loss: 0.3556 - val_accuracy: 0.8738\n",
      "Epoch 9/30\n",
      "55000/55000 [==============================] - 3s 61us/sample - loss: 0.3459 - accuracy: 0.8772 - val_loss: 0.3487 - val_accuracy: 0.8780\n",
      "Epoch 10/30\n",
      "55000/55000 [==============================] - 3s 61us/sample - loss: 0.3368 - accuracy: 0.8799 - val_loss: 0.3567 - val_accuracy: 0.8758\n",
      "Epoch 11/30\n",
      "55000/55000 [==============================] - 3s 63us/sample - loss: 0.3284 - accuracy: 0.8836 - val_loss: 0.3412 - val_accuracy: 0.8790\n",
      "Epoch 12/30\n",
      "55000/55000 [==============================] - 3s 60us/sample - loss: 0.3204 - accuracy: 0.8866 - val_loss: 0.3392 - val_accuracy: 0.8794\n",
      "Epoch 13/30\n",
      "55000/55000 [==============================] - 3s 61us/sample - loss: 0.3122 - accuracy: 0.8888 - val_loss: 0.3534 - val_accuracy: 0.8730\n",
      "Epoch 14/30\n",
      "55000/55000 [==============================] - 3s 61us/sample - loss: 0.3064 - accuracy: 0.8906 - val_loss: 0.3204 - val_accuracy: 0.8876\n",
      "Epoch 15/30\n",
      "55000/55000 [==============================] - 3s 61us/sample - loss: 0.2993 - accuracy: 0.8923 - val_loss: 0.3248 - val_accuracy: 0.8864\n",
      "Epoch 16/30\n",
      "55000/55000 [==============================] - 3s 62us/sample - loss: 0.2940 - accuracy: 0.8943 - val_loss: 0.3193 - val_accuracy: 0.8852\n",
      "Epoch 17/30\n",
      "55000/55000 [==============================] - 3s 62us/sample - loss: 0.2883 - accuracy: 0.8958 - val_loss: 0.3177 - val_accuracy: 0.8882\n",
      "Epoch 18/30\n",
      "55000/55000 [==============================] - 3s 62us/sample - loss: 0.2826 - accuracy: 0.8983 - val_loss: 0.3079 - val_accuracy: 0.8904\n",
      "Epoch 19/30\n",
      "55000/55000 [==============================] - 3s 63us/sample - loss: 0.2776 - accuracy: 0.9001 - val_loss: 0.3441 - val_accuracy: 0.8704\n",
      "Epoch 20/30\n",
      "55000/55000 [==============================] - 3s 64us/sample - loss: 0.2727 - accuracy: 0.9017 - val_loss: 0.3156 - val_accuracy: 0.8896\n",
      "Epoch 21/30\n",
      "55000/55000 [==============================] - 3s 63us/sample - loss: 0.2668 - accuracy: 0.9036 - val_loss: 0.3118 - val_accuracy: 0.8874\n",
      "Epoch 22/30\n",
      "55000/55000 [==============================] - 4s 67us/sample - loss: 0.2637 - accuracy: 0.9042 - val_loss: 0.3170 - val_accuracy: 0.8852\n",
      "Epoch 23/30\n",
      "55000/55000 [==============================] - 4s 73us/sample - loss: 0.2576 - accuracy: 0.9062 - val_loss: 0.3018 - val_accuracy: 0.8922\n",
      "Epoch 24/30\n",
      "55000/55000 [==============================] - 4s 67us/sample - loss: 0.2533 - accuracy: 0.9096 - val_loss: 0.3041 - val_accuracy: 0.8922\n",
      "Epoch 25/30\n",
      "55000/55000 [==============================] - 4s 67us/sample - loss: 0.2495 - accuracy: 0.9104 - val_loss: 0.3096 - val_accuracy: 0.8884\n",
      "Epoch 26/30\n",
      "55000/55000 [==============================] - 4s 68us/sample - loss: 0.2455 - accuracy: 0.9112 - val_loss: 0.3020 - val_accuracy: 0.8908\n",
      "Epoch 27/30\n",
      "55000/55000 [==============================] - 3s 62us/sample - loss: 0.2414 - accuracy: 0.9124 - val_loss: 0.3236 - val_accuracy: 0.8872\n",
      "Epoch 28/30\n",
      "55000/55000 [==============================] - 3s 61us/sample - loss: 0.2379 - accuracy: 0.9143 - val_loss: 0.3057 - val_accuracy: 0.8912\n",
      "Epoch 29/30\n",
      "55000/55000 [==============================] - 3s 61us/sample - loss: 0.2337 - accuracy: 0.9158 - val_loss: 0.3054 - val_accuracy: 0.8908\n",
      "Epoch 30/30\n",
      "55000/55000 [==============================] - 4s 66us/sample - loss: 0.2305 - accuracy: 0.9169 - val_loss: 0.3035 - val_accuracy: 0.8914\n"
     ]
    }
   ],
   "source": [
    "history = model.fit(x_train, y_train, epochs=30, validation_data=(x_valid, y_valid))"
   ]
  },
  {
   "cell_type": "code",
   "execution_count": 16,
   "metadata": {},
   "outputs": [
    {
     "data": {
      "image/png": "[encoded data removed]",
      "text/plain": [
       "<Figure size 576x360 with 1 Axes>"
      ]
     },
     "metadata": {
      "needs_background": "light"
     },
     "output_type": "display_data"
    }
   ],
   "source": [
    "# Learning curves\n",
    "\n",
    "import pandas as pd\n",
    "import matplotlib.pyplot as plt\n",
    "\n",
    "pd.DataFrame(history.history).plot(figsize=(8,5))\n",
    "plt.grid(True)\n",
    "plt.gca().set_ylim(0, 1)\n",
    "plt.show()"
   ]
  },
  {
   "cell_type": "code",
   "execution_count": 17,
   "metadata": {},
   "outputs": [
    {
     "name": "stdout",
     "output_type": "stream",
     "text": [
      "10000/10000 [==============================] - 0s 47us/sample - loss: 57.1708 - accuracy: 0.8633\n"
     ]
    },
    {
     "data": {
      "text/plain": [
       "[57.170831044572594, 0.8633]"
      ]
     },
     "execution_count": 17,
     "metadata": {},
     "output_type": "execute_result"
    }
   ],
   "source": [
    "# evaluate on test for final performance\n",
    "model.evaluate(x_test, y_test)"
   ]
  },
  {
   "cell_type": "code",
   "execution_count": 18,
   "metadata": {},
   "outputs": [
    {
     "data": {
      "text/plain": [
       "array([[0., 0., 0., 0., 0., 0., 0., 0., 0., 1.],\n",
       "       [0., 0., 1., 0., 0., 0., 0., 0., 0., 0.],\n",
       "       [0., 1., 0., 0., 0., 0., 0., 0., 0., 0.]], dtype=float32)"
      ]
     },
     "execution_count": 18,
     "metadata": {},
     "output_type": "execute_result"
    }
   ],
   "source": [
    "# now we can make predictions with the model\n",
    "x_new = x_test[:3]\n",
    "y_proba = model.predict(x_new)\n",
    "y_proba.round(2)"
   ]
  },
  {
   "cell_type": "code",
   "execution_count": 19,
   "metadata": {},
   "outputs": [
    {
     "name": "stdout",
     "output_type": "stream",
     "text": [
      "['Ankle boot' 'Pullover' 'Trouser']\n"
     ]
    }
   ],
   "source": [
    "# to see the predicted classes\n",
    "y_pred = model.predict_classes(x_new)\n",
    "print(np.array(class_names)[y_pred])"
   ]
  },
  {
   "cell_type": "code",
   "execution_count": 43,
   "metadata": {},
   "outputs": [
    {
     "name": "stdout",
     "output_type": "stream",
     "text": [
      "Train on 11610 samples, validate on 3870 samples\n",
      "Epoch 1/20\n",
      "11610/11610 [==============================] - 1s 67us/sample - loss: 0.9598 - val_loss: 0.6512\n",
      "Epoch 2/20\n",
      "11610/11610 [==============================] - 1s 46us/sample - loss: 0.5770 - val_loss: 0.5010\n",
      "Epoch 3/20\n",
      "11610/11610 [==============================] - 0s 41us/sample - loss: 0.5082 - val_loss: 0.4651\n",
      "Epoch 4/20\n",
      "11610/11610 [==============================] - 0s 40us/sample - loss: 0.4524 - val_loss: 0.4504\n",
      "Epoch 5/20\n",
      "11610/11610 [==============================] - 0s 43us/sample - loss: 0.4404 - val_loss: 0.4329\n",
      "Epoch 6/20\n",
      "11610/11610 [==============================] - 0s 42us/sample - loss: 0.4292 - val_loss: 0.4255\n",
      "Epoch 7/20\n",
      "11610/11610 [==============================] - 0s 42us/sample - loss: 0.4213 - val_loss: 0.4192\n",
      "Epoch 8/20\n",
      "11610/11610 [==============================] - 0s 42us/sample - loss: 0.4147 - val_loss: 0.4172\n",
      "Epoch 9/20\n",
      "11610/11610 [==============================] - 0s 39us/sample - loss: 0.4078 - val_loss: 0.4147\n",
      "Epoch 10/20\n",
      "11610/11610 [==============================] - 0s 40us/sample - loss: 0.4024 - val_loss: 0.4031\n",
      "Epoch 11/20\n",
      "11610/11610 [==============================] - 0s 39us/sample - loss: 0.3991 - val_loss: 0.4044\n",
      "Epoch 12/20\n",
      "11610/11610 [==============================] - 0s 39us/sample - loss: 0.3948 - val_loss: 0.3965\n",
      "Epoch 13/20\n",
      "11610/11610 [==============================] - 0s 39us/sample - loss: 0.3899 - val_loss: 0.3916\n",
      "Epoch 14/20\n",
      "11610/11610 [==============================] - 0s 39us/sample - loss: 0.3875 - val_loss: 0.3901\n",
      "Epoch 15/20\n",
      "11610/11610 [==============================] - 0s 40us/sample - loss: 0.3814 - val_loss: 0.3922\n",
      "Epoch 16/20\n",
      "11610/11610 [==============================] - 0s 39us/sample - loss: 0.3807 - val_loss: 0.4415\n",
      "Epoch 17/20\n",
      "11610/11610 [==============================] - 0s 39us/sample - loss: 0.3803 - val_loss: 0.3812\n",
      "Epoch 18/20\n",
      "11610/11610 [==============================] - 0s 39us/sample - loss: 0.3732 - val_loss: 0.3816\n",
      "Epoch 19/20\n",
      "11610/11610 [==============================] - 0s 39us/sample - loss: 0.3707 - val_loss: 0.3776\n",
      "Epoch 20/20\n",
      "11610/11610 [==============================] - 0s 42us/sample - loss: 0.3692 - val_loss: 0.3758\n",
      "5160/5160 [==============================] - 0s 24us/sample - loss: 0.3799\n"
     ]
    }
   ],
   "source": [
    "# regression MLP\n",
    "\n",
    "from sklearn.datasets import fetch_california_housing\n",
    "from sklearn.model_selection import train_test_split\n",
    "from sklearn.preprocessing import StandardScaler\n",
    "\n",
    "housing = fetch_california_housing()\n",
    "x_train_full, x_test, y_train_full, y_test = train_test_split(housing.data, housing.target)\n",
    "x_train, x_valid, y_train, y_valid = train_test_split(x_train_full, y_train_full)\n",
    "\n",
    "scaler = StandardScaler()\n",
    "x_train = scaler.fit_transform(x_train)\n",
    "x_valid = scaler.transform(x_valid)\n",
    "x_test = scaler.transform(x_test)\n",
    "\n",
    "model = keras.models.Sequential([\n",
    "    keras.layers.Dense(30, activation=\"relu\", input_shape=x_train.shape[1:]),\n",
    "    keras.layers.Dense(1)\n",
    "])\n",
    "\n",
    "model.compile(loss=\"mean_squared_error\", optimizer=\"sgd\")\n",
    "history = model.fit(x_train, y_train, epochs=20, validation_data=(x_valid, y_valid))\n",
    "mse_test = model.evaluate(x_test, y_test)\n",
    "x_new = x_test[:3] # pretending these are new instances\n",
    "y_pred = model.predict(x_new)\n"
   ]
  },
  {
   "cell_type": "code",
   "execution_count": 42,
   "metadata": {},
   "outputs": [
    {
     "name": "stdout",
     "output_type": "stream",
     "text": [
      "(28, 28)\n"
     ]
    }
   ],
   "source": [
    "# wide and deep NN\n",
    "# Can learn complex patterns with the deep path, and simple ones with the short path\n",
    "# created here with functional API\n",
    "\n",
    "input_ = keras.layers.Input(shape=x_train.shape[1:])\n",
    "hidden1 = keras.layers.Dense(30, activation=\"relu\")(input_)\n",
    "hidden2 = keras.layers.Dense(30, activation=\"relu\")(hidden1)\n",
    "concat = keras.layers.Concatenate()([input_, hidden2])\n",
    "output = keras.layers.Dense(1)(concat)\n",
    "model = keras.Model(inputs=[input_], outputs=[output])"
   ]
  },
  {
   "cell_type": "code",
   "execution_count": 35,
   "metadata": {},
   "outputs": [
    {
     "name": "stdout",
     "output_type": "stream",
     "text": [
      "Model: \"model_4\"\n",
      "__________________________________________________________________________________________________\n",
      "Layer (type)                    Output Shape         Param #     Connected to                     \n",
      "==================================================================================================\n",
      "input_3 (InputLayer)            [(None, 28, 28)]     0                                            \n",
      "__________________________________________________________________________________________________\n",
      "dense_32 (Dense)                (None, 28, 30)       870         input_3[0][0]                    \n",
      "__________________________________________________________________________________________________\n",
      "dense_33 (Dense)                (None, 28, 30)       930         dense_32[0][0]                   \n",
      "__________________________________________________________________________________________________\n",
      "concatenate_5 (Concatenate)     (None, 28, 58)       0           input_3[0][0]                    \n",
      "                                                                 dense_33[0][0]                   \n",
      "__________________________________________________________________________________________________\n",
      "dense_34 (Dense)                (None, 28, 1)        59          concatenate_5[0][0]              \n",
      "==================================================================================================\n",
      "Total params: 1,859\n",
      "Trainable params: 1,859\n",
      "Non-trainable params: 0\n",
      "__________________________________________________________________________________________________\n"
     ]
    }
   ],
   "source": [
    "model.summary()"
   ]
  },
  {
   "cell_type": "code",
   "execution_count": 44,
   "metadata": {},
   "outputs": [
    {
     "name": "stdout",
     "output_type": "stream",
     "text": [
      "Train on 11610 samples, validate on 3870 samples\n",
      "Epoch 1/20\n",
      "11610/11610 [==============================] - 3s 260us/sample - loss: 2.3424 - val_loss: 1.2292\n",
      "Epoch 2/20\n",
      "11610/11610 [==============================] - 0s 42us/sample - loss: 0.9287 - val_loss: 0.7626\n",
      "Epoch 3/20\n",
      "11610/11610 [==============================] - 0s 42us/sample - loss: 0.7174 - val_loss: 0.6769\n",
      "Epoch 4/20\n",
      "11610/11610 [==============================] - 0s 43us/sample - loss: 0.6555 - val_loss: 0.6364\n",
      "Epoch 5/20\n",
      "11610/11610 [==============================] - 0s 42us/sample - loss: 0.6219 - val_loss: 0.6073\n",
      "Epoch 6/20\n",
      "11610/11610 [==============================] - 0s 42us/sample - loss: 0.5970 - val_loss: 0.5863\n",
      "Epoch 7/20\n",
      "11610/11610 [==============================] - 0s 43us/sample - loss: 0.5768 - val_loss: 0.5677\n",
      "Epoch 8/20\n",
      "11610/11610 [==============================] - 1s 46us/sample - loss: 0.5604 - val_loss: 0.5519\n",
      "Epoch 9/20\n",
      "11610/11610 [==============================] - 1s 49us/sample - loss: 0.5462 - val_loss: 0.5386\n",
      "Epoch 10/20\n",
      "11610/11610 [==============================] - 1s 65us/sample - loss: 0.5344 - val_loss: 0.5280\n",
      "Epoch 11/20\n",
      "11610/11610 [==============================] - 1s 64us/sample - loss: 0.5250 - val_loss: 0.5183\n",
      "Epoch 12/20\n",
      "11610/11610 [==============================] - 1s 64us/sample - loss: 0.5163 - val_loss: 0.5110\n",
      "Epoch 13/20\n",
      "11610/11610 [==============================] - 1s 55us/sample - loss: 0.5097 - val_loss: 0.5061\n",
      "Epoch 14/20\n",
      "11610/11610 [==============================] - 1s 52us/sample - loss: 0.5035 - val_loss: 0.4990\n",
      "Epoch 15/20\n",
      "11610/11610 [==============================] - 1s 63us/sample - loss: 0.4993 - val_loss: 0.4968\n",
      "Epoch 16/20\n",
      "11610/11610 [==============================] - 2s 180us/sample - loss: 0.4943 - val_loss: 0.4908\n",
      "Epoch 17/20\n",
      "11610/11610 [==============================] - 1s 124us/sample - loss: 0.4911 - val_loss: 0.4881\n",
      "Epoch 18/20\n",
      "11610/11610 [==============================] - 1s 50us/sample - loss: 0.4902 - val_loss: 0.4842\n",
      "Epoch 19/20\n",
      "11610/11610 [==============================] - 1s 50us/sample - loss: 0.4844 - val_loss: 0.4819\n",
      "Epoch 20/20\n",
      "11610/11610 [==============================] - 1s 53us/sample - loss: 0.4822 - val_loss: 0.4786\n",
      "5160/5160 [==============================] - 0s 24us/sample - loss: 0.4970\n"
     ]
    }
   ],
   "source": [
    "# similar but here we want option to send subsets through wide vs deep path\n",
    "# needed to re run some earlier code, because changes seem to have been made to the model \n",
    "\n",
    "from sklearn.datasets import fetch_california_housing\n",
    "from sklearn.model_selection import train_test_split\n",
    "from sklearn.preprocessing import StandardScaler\n",
    "\n",
    "housing = fetch_california_housing()\n",
    "x_train_full, x_test, y_train_full, y_test = train_test_split(housing.data, housing.target)\n",
    "x_train, x_valid, y_train, y_valid = train_test_split(x_train_full, y_train_full)\n",
    "\n",
    "scaler = StandardScaler()\n",
    "x_train = scaler.fit_transform(x_train)\n",
    "x_valid = scaler.transform(x_valid)\n",
    "x_test = scaler.transform(x_test)\n",
    "\n",
    "input_a = keras.layers.Input(shape=[5], name = \"wide_input\")\n",
    "input_b = keras.layers.Input(shape=[6], name = \"deep_input\")\n",
    "hidden1 = keras.layers.Dense(30, activation=\"relu\")(input_b)\n",
    "hidden2 = keras.layers.Dense(30, activation=\"relu\")(hidden1)\n",
    "concat = keras.layers.Concatenate()([input_a, hidden2])\n",
    "output = keras.layers.Dense(1, name=\"output\")(concat)\n",
    "model = keras.Model(inputs=[input_a, input_b], outputs=[output])\n",
    "\n",
    "model.compile(loss=\"mse\", optimizer=keras.optimizers.SGD(lr=1e-3))\n",
    "\n",
    "x_train_a, x_train_b = x_train[:, :5], x_train[:, 2:]\n",
    "x_valid_a, x_valid_b = x_valid[:, :5], x_valid[:, 2:]\n",
    "x_test_a, x_test_b = x_test[:, :5], x_test[:, 2:]\n",
    "\n",
    "x_new_a, x_new_b = x_test_a[:3], x_test_b[:3]\n",
    "\n",
    "history = model.fit((x_train_a, x_train_b), y_train, epochs=20, validation_data=((x_valid_a, x_valid_b), y_valid))\n",
    "mse_test = model.evaluate((x_test_a, x_test_b), y_test)\n",
    "y_pred = model.predict((x_new_a, x_new_b))"
   ]
  },
  {
   "cell_type": "code",
   "execution_count": 45,
   "metadata": {},
   "outputs": [
    {
     "data": {
      "text/plain": [
       "array([[1.856787 ],\n",
       "       [2.3069134],\n",
       "       [0.6789582]], dtype=float32)"
      ]
     },
     "execution_count": 45,
     "metadata": {},
     "output_type": "execute_result"
    }
   ],
   "source": [
    "y_pred"
   ]
  },
  {
   "cell_type": "code",
   "execution_count": 49,
   "metadata": {},
   "outputs": [
    {
     "name": "stdout",
     "output_type": "stream",
     "text": [
      "Train on 11610 samples, validate on 3870 samples\n",
      "Epoch 1/20\n",
      "11610/11610 [==============================] - 1s 105us/sample - loss: 0.8745 - main_output_loss: 0.7363 - aux_output_loss: 2.1181 - val_loss: 0.5609 - val_main_output_loss: 0.5039 - val_aux_output_loss: 1.0724\n",
      "Epoch 2/20\n",
      "11610/11610 [==============================] - 1s 48us/sample - loss: 0.5542 - main_output_loss: 0.5054 - aux_output_loss: 0.9932 - val_loss: 0.4884 - val_main_output_loss: 0.4456 - val_aux_output_loss: 0.8727\n",
      "Epoch 3/20\n",
      "11610/11610 [==============================] - 1s 47us/sample - loss: 0.5519 - main_output_loss: 0.5194 - aux_output_loss: 0.8438 - val_loss: 0.4722 - val_main_output_loss: 0.4395 - val_aux_output_loss: 0.7651\n",
      "Epoch 4/20\n",
      "11610/11610 [==============================] - 1s 48us/sample - loss: 0.4990 - main_output_loss: 0.4703 - aux_output_loss: 0.7556 - val_loss: 0.4442 - val_main_output_loss: 0.4157 - val_aux_output_loss: 0.6999\n",
      "Epoch 5/20\n",
      "11610/11610 [==============================] - 1s 48us/sample - loss: 0.4860 - main_output_loss: 0.4611 - aux_output_loss: 0.7106 - val_loss: 0.4379 - val_main_output_loss: 0.4125 - val_aux_output_loss: 0.6654\n",
      "Epoch 6/20\n",
      "11610/11610 [==============================] - 1s 57us/sample - loss: 0.4769 - main_output_loss: 0.4539 - aux_output_loss: 0.6833 - val_loss: 0.4318 - val_main_output_loss: 0.4093 - val_aux_output_loss: 0.6336\n",
      "Epoch 7/20\n",
      "11610/11610 [==============================] - 1s 48us/sample - loss: 0.4635 - main_output_loss: 0.4414 - aux_output_loss: 0.6629 - val_loss: 0.4108 - val_main_output_loss: 0.3882 - val_aux_output_loss: 0.6131\n",
      "Epoch 8/20\n",
      "11610/11610 [==============================] - 1s 50us/sample - loss: 0.4516 - main_output_loss: 0.4306 - aux_output_loss: 0.6418 - val_loss: 0.4066 - val_main_output_loss: 0.3855 - val_aux_output_loss: 0.5948\n",
      "Epoch 9/20\n",
      "11610/11610 [==============================] - 1s 51us/sample - loss: 0.4563 - main_output_loss: 0.4367 - aux_output_loss: 0.6312 - val_loss: 0.3956 - val_main_output_loss: 0.3743 - val_aux_output_loss: 0.5864\n",
      "Epoch 10/20\n",
      "11610/11610 [==============================] - 1s 48us/sample - loss: 0.4348 - main_output_loss: 0.4147 - aux_output_loss: 0.6147 - val_loss: 0.3866 - val_main_output_loss: 0.3667 - val_aux_output_loss: 0.5650\n",
      "Epoch 11/20\n",
      "11610/11610 [==============================] - 1s 56us/sample - loss: 0.4278 - main_output_loss: 0.4087 - aux_output_loss: 0.5992 - val_loss: 0.3792 - val_main_output_loss: 0.3593 - val_aux_output_loss: 0.5573\n",
      "Epoch 12/20\n",
      "11610/11610 [==============================] - 1s 59us/sample - loss: 0.4198 - main_output_loss: 0.4012 - aux_output_loss: 0.5874 - val_loss: 0.3740 - val_main_output_loss: 0.3556 - val_aux_output_loss: 0.5391\n",
      "Epoch 13/20\n",
      "11610/11610 [==============================] - 1s 48us/sample - loss: 0.4137 - main_output_loss: 0.3956 - aux_output_loss: 0.5763 - val_loss: 0.3733 - val_main_output_loss: 0.3558 - val_aux_output_loss: 0.5294\n",
      "Epoch 14/20\n",
      "11610/11610 [==============================] - 1s 51us/sample - loss: 0.4123 - main_output_loss: 0.3951 - aux_output_loss: 0.5662 - val_loss: 0.3642 - val_main_output_loss: 0.3469 - val_aux_output_loss: 0.5186\n",
      "Epoch 15/20\n",
      "11610/11610 [==============================] - 1s 55us/sample - loss: 0.4048 - main_output_loss: 0.3881 - aux_output_loss: 0.5548 - val_loss: 0.3703 - val_main_output_loss: 0.3544 - val_aux_output_loss: 0.5128\n",
      "Epoch 16/20\n",
      "11610/11610 [==============================] - 1s 53us/sample - loss: 0.4028 - main_output_loss: 0.3870 - aux_output_loss: 0.5443 - val_loss: 0.3552 - val_main_output_loss: 0.3391 - val_aux_output_loss: 0.4991\n",
      "Epoch 17/20\n",
      "11610/11610 [==============================] - 1s 50us/sample - loss: 0.3925 - main_output_loss: 0.3764 - aux_output_loss: 0.5374 - val_loss: 0.3501 - val_main_output_loss: 0.3343 - val_aux_output_loss: 0.4916\n",
      "Epoch 18/20\n",
      "11610/11610 [==============================] - 1s 56us/sample - loss: 0.3883 - main_output_loss: 0.3729 - aux_output_loss: 0.5271 - val_loss: 0.3507 - val_main_output_loss: 0.3360 - val_aux_output_loss: 0.4816\n",
      "Epoch 19/20\n",
      "11610/11610 [==============================] - 1s 57us/sample - loss: 0.3824 - main_output_loss: 0.3674 - aux_output_loss: 0.5161 - val_loss: 0.3424 - val_main_output_loss: 0.3274 - val_aux_output_loss: 0.4763\n",
      "Epoch 20/20\n",
      "11610/11610 [==============================] - 1s 58us/sample - loss: 0.3774 - main_output_loss: 0.3630 - aux_output_loss: 0.5080 - val_loss: 0.3483 - val_main_output_loss: 0.3347 - val_aux_output_loss: 0.4694\n",
      "5160/5160 [==============================] - 0s 32us/sample - loss: 0.3869 - main_output_loss: 0.3745 - aux_output_loss: 0.5057\n"
     ]
    }
   ],
   "source": [
    "# if we want our model to have different outputs we can do that too\n",
    "# for example if we want it to perform different classification tasks\n",
    "from sklearn.datasets import fetch_california_housing\n",
    "from sklearn.model_selection import train_test_split\n",
    "from sklearn.preprocessing import StandardScaler\n",
    "\n",
    "housing = fetch_california_housing()\n",
    "x_train_full, x_test, y_train_full, y_test = train_test_split(housing.data, housing.target)\n",
    "x_train, x_valid, y_train, y_valid = train_test_split(x_train_full, y_train_full)\n",
    "\n",
    "scaler = StandardScaler()\n",
    "x_train = scaler.fit_transform(x_train)\n",
    "x_valid = scaler.transform(x_valid)\n",
    "x_test = scaler.transform(x_test)\n",
    "\n",
    "\n",
    "input_a = keras.layers.Input(shape=[5], name = \"wide_input\")\n",
    "input_b = keras.layers.Input(shape=[6], name = \"deep_input\")\n",
    "hidden1 = keras.layers.Dense(30, activation=\"relu\")(input_b)\n",
    "hidden2 = keras.layers.Dense(30, activation=\"relu\")(hidden1)\n",
    "concat = keras.layers.Concatenate()([input_a, hidden2])\n",
    "output = keras.layers.Dense(1, name=\"main_output\")(concat)\n",
    "aux_output = keras.layers.Dense(1, name=\"aux_output\")(hidden2)\n",
    "model = keras.Model(inputs=[input_a, input_b], outputs=[output, aux_output])\n",
    "\n",
    "model.compile(loss=[\"mse\", \"mse\"], loss_weights=[0.9, 0.1], optimizer=\"sgd\")\n",
    "\n",
    "x_train_a, x_train_b = x_train[:, :5], x_train[:, 2:]\n",
    "x_valid_a, x_valid_b = x_valid[:, :5], x_valid[:, 2:]\n",
    "x_test_a, x_test_b = x_test[:, :5], x_test[:, 2:]\n",
    "x_new_a, x_new_b = x_test_a[:3], x_test_b[:3]\n",
    "\n",
    "# two different input data, but since both are predicting the same thing we can use the same label\n",
    "history = model.fit(\n",
    "[x_train_a, x_train_b], [y_train, y_train], epochs=20, validation_data=([x_valid_a, x_valid_b], [y_valid, y_valid])\n",
    ")\n",
    "\n",
    "total_loss, main_loss, aux_loss = model.evaluate([x_test_a, x_test_b], [y_test, y_test])\n",
    "y_pred_main, y_pred_aux = model.predict([x_new_a, x_new_b])\n",
    "# we can save our models as .h5 (HDF5) files\n",
    "model.save(\"my_keras_model.h5\")"
   ]
  },
  {
   "cell_type": "code",
   "execution_count": null,
   "metadata": {},
   "outputs": [],
   "source": [
    "# if you want to customize it you can just subclass it\n",
    "\n",
    "class WideAndDeepModel(keras.Model):\n",
    "    def __init__(self, units=30, activation=\"relu\", **kwargs)\n",
    "        super().__init__(**kwargs)\n",
    "        self.hidden1 = keras.layers.Dense(units, activation=activation)\n",
    "        self.hidden2 = keras.layers.Dense(units, activation=activation)\n",
    "        self.main_output = keras.layers.Dense(1)\n",
    "        self.aux_output = keras.layers.Dense(1)\n",
    "\n",
    "    # we can do customization in the call model, if statements, for loops anything we want in there\n",
    "\n",
    "    def call(self, inputs):\n",
    "        input_a, input_b = inputs\n",
    "        hidden1 = self.hidden1(input_b)\n",
    "        hidden2 = self.hidden2(hidden1)\n",
    "        concat = keras.layers.concatenate([input_a, hidden2])\n",
    "        main_output = self.main_output(concat)\n",
    "        aux_output = self.aux_output(hidden2)\n",
    "        return main_output, aux_output\n",
    "    \n",
    "model = WideAndDeepModel()"
   ]
  },
  {
   "cell_type": "code",
   "execution_count": null,
   "metadata": {},
   "outputs": [],
   "source": [
    "# you can pass a callback to the fit method\n",
    "# this checkpoints your model to the file,\n",
    "# you can also tell it to only save the \n",
    "# hyperparameters where it performed the best\n",
    "# implementing early stopping for you\n",
    "\n",
    "checkpoint_cb = keras.callbacks.ModelCheckpoint(\"my_keras_model.h5\", save_best_only=True)\n",
    "history = model.fit(x_train, y_train, epochs=10, callbacks=[checkpoint_cb])\n",
    "\n",
    "# patience tells it how to long to continue after stopping with no improvement\n",
    "early_stopping_cb = keras.callbacks.EarlyStopping(patience=10, restore_best_weights=True)\n",
    "history = model.fit(\n",
    "    x_train, \n",
    "    y_train, \n",
    "    epochs=100, \n",
    "    validation_data=(x_valid, y_valid), \n",
    "    callbacks=[checkpoint_cb, early_stopping_cb]\n",
    ")"
   ]
  },
  {
   "cell_type": "code",
   "execution_count": null,
   "metadata": {
    "collapsed": true
   },
   "outputs": [],
   "source": [
    "# you can also write your own custom callback to pass to the models methods\n",
    "# callbacks for fit\n",
    "# on_train_begin\n",
    "# on_train_end\n",
    "# on_epoch_begin\n",
    "# on_epoch_end\n",
    "# on_batch_begin\n",
    "# on_batch_end\n",
    "# callbacks for evaluate\n",
    "# on_test_begin\n",
    "# on_test_end\n",
    "# on_test_batch_begin\n",
    "# on_test_batch_end\n",
    "# callbacks for predict\n",
    "# on_predict_begin\n",
    "# on_predict_end\n",
    "# on_predict_batch_begin\n",
    "# on_predict_batch_end\n",
    "\n",
    "class PrintValTrainRatioCallback(keras.callbacks.Callback):\n",
    "    def on_epoch_end(self, epoch, logs):\n",
    "        print(\"\\nval/train: {:.2f}\".format(logs[\"val_loss\"] / logs[\"loss\"]))"
   ]
  },
  {
   "cell_type": "code",
   "execution_count": 51,
   "metadata": {},
   "outputs": [
    {
     "name": "stdout",
     "output_type": "stream",
     "text": [
      "Train on 11610 samples, validate on 3870 samples\n",
      "Epoch 1/30\n",
      "11610/11610 [==============================] - 1s 70us/sample - loss: 2.2664 - val_loss: 0.7296\n",
      "Epoch 2/30\n",
      "11610/11610 [==============================] - 1s 51us/sample - loss: 0.7645 - val_loss: 0.6353\n",
      "Epoch 3/30\n",
      "11610/11610 [==============================] - 1s 46us/sample - loss: 0.6822 - val_loss: 0.6058\n",
      "Epoch 4/30\n",
      "11610/11610 [==============================] - 1s 47us/sample - loss: 0.6547 - val_loss: 0.5849\n",
      "Epoch 5/30\n",
      "11610/11610 [==============================] - 1s 45us/sample - loss: 0.6338 - val_loss: 0.5658\n",
      "Epoch 6/30\n",
      "11610/11610 [==============================] - 1s 45us/sample - loss: 0.6155 - val_loss: 0.5492\n",
      "Epoch 7/30\n",
      "11610/11610 [==============================] - 1s 46us/sample - loss: 0.5994 - val_loss: 0.5361\n",
      "Epoch 8/30\n",
      "11610/11610 [==============================] - 1s 46us/sample - loss: 0.5849 - val_loss: 0.5226\n",
      "Epoch 9/30\n",
      "11610/11610 [==============================] - 1s 45us/sample - loss: 0.5722 - val_loss: 0.5122\n",
      "Epoch 10/30\n",
      "11610/11610 [==============================] - 1s 46us/sample - loss: 0.5615 - val_loss: 0.5040\n",
      "Epoch 11/30\n",
      "11610/11610 [==============================] - 1s 45us/sample - loss: 0.5523 - val_loss: 0.4951\n",
      "Epoch 12/30\n",
      "11610/11610 [==============================] - 1s 48us/sample - loss: 0.5447 - val_loss: 0.4879\n",
      "Epoch 13/30\n",
      "11610/11610 [==============================] - 1s 46us/sample - loss: 0.5377 - val_loss: 0.4835\n",
      "Epoch 14/30\n",
      "11610/11610 [==============================] - 1s 46us/sample - loss: 0.5323 - val_loss: 0.4791\n",
      "Epoch 15/30\n",
      "11610/11610 [==============================] - 1s 46us/sample - loss: 0.5272 - val_loss: 0.4747\n",
      "Epoch 16/30\n",
      "11610/11610 [==============================] - 1s 46us/sample - loss: 0.5234 - val_loss: 0.4699\n",
      "Epoch 17/30\n",
      "11610/11610 [==============================] - 1s 46us/sample - loss: 0.5192 - val_loss: 0.4675\n",
      "Epoch 18/30\n",
      "11610/11610 [==============================] - 1s 47us/sample - loss: 0.5159 - val_loss: 0.4641\n",
      "Epoch 19/30\n",
      "11610/11610 [==============================] - 1s 47us/sample - loss: 0.5136 - val_loss: 0.4601\n",
      "Epoch 20/30\n",
      "11610/11610 [==============================] - 1s 47us/sample - loss: 0.5100 - val_loss: 0.4600\n",
      "Epoch 21/30\n",
      "11610/11610 [==============================] - 1s 47us/sample - loss: 0.5073 - val_loss: 0.4557\n",
      "Epoch 22/30\n",
      "11610/11610 [==============================] - 1s 46us/sample - loss: 0.5044 - val_loss: 0.4547\n",
      "Epoch 23/30\n",
      "11610/11610 [==============================] - 1s 46us/sample - loss: 0.5024 - val_loss: 0.4511\n",
      "Epoch 24/30\n",
      "11610/11610 [==============================] - 1s 46us/sample - loss: 0.5003 - val_loss: 0.4496\n",
      "Epoch 25/30\n",
      "11610/11610 [==============================] - 1s 47us/sample - loss: 0.4990 - val_loss: 0.4494\n",
      "Epoch 26/30\n",
      "11610/11610 [==============================] - 1s 47us/sample - loss: 0.4963 - val_loss: 0.4458\n",
      "Epoch 27/30\n",
      "11610/11610 [==============================] - 1s 46us/sample - loss: 0.4942 - val_loss: 0.4463\n",
      "Epoch 28/30\n",
      "11610/11610 [==============================] - 1s 46us/sample - loss: 0.4923 - val_loss: 0.4439\n",
      "Epoch 29/30\n",
      "11610/11610 [==============================] - 1s 47us/sample - loss: 0.4911 - val_loss: 0.4423\n",
      "Epoch 30/30\n",
      "11610/11610 [==============================] - 1s 46us/sample - loss: 0.4888 - val_loss: 0.4405\n"
     ]
    }
   ],
   "source": [
    "# tensorboard for visualization\n",
    "\n",
    "import os\n",
    "root_logdir = os.path.join(os.curdir, \"my_logs\")\n",
    "\n",
    "def get_run_logdir():\n",
    "    import time\n",
    "    run_id = time.strftime(\"run_%Y_%m_%d-%H_%M_%S\")\n",
    "    return os.path.join(root_logdir, run_id)\n",
    "\n",
    "run_logdir = get_run_logdir()\n",
    "tensorboard_cb = keras.callbacks.TensorBoard(run_logdir)\n",
    "model = keras.models.Sequential([\n",
    "    keras.layers.Dense(30, activation=\"relu\", input_shape=x_train.shape[1:]),\n",
    "    keras.layers.Dense(1)\n",
    "])\n",
    "model.compile(loss=\"mse\", optimizer=keras.optimizers.SGD(lr=1e-3))\n",
    "history = model.fit(x_train, y_train, epochs=30, validation_data=(x_valid, y_valid), callbacks=[tensorboard_cb])"
   ]
  },
  {
   "cell_type": "code",
   "execution_count": 57,
   "metadata": {},
   "outputs": [
    {
     "name": "stdout",
     "output_type": "stream",
     "text": [
      "The tensorboard extension is already loaded. To reload it, use:\n",
      "  %reload_ext tensorboard\n"
     ]
    },
    {
     "data": {
      "text/plain": [
       "Reusing TensorBoard on port 6006 (pid 6358), started 0:12:45 ago. (Use '!kill 6358' to kill it.)"
      ]
     },
     "metadata": {},
     "output_type": "display_data"
    },
    {
     "data": {
      "text/html": [
       "\n",
       "      <iframe id=\"tensorboard-frame-5f211dea3f884102\" width=\"100%\" height=\"800\" frameborder=\"0\">\n",
       "      </iframe>\n",
       "      <script>\n",
       "        (function() {\n",
       "          const frame = document.getElementById(\"tensorboard-frame-5f211dea3f884102\");\n",
       "          const url = new URL(\"/\", window.location);\n",
       "          url.port = 6006;\n",
       "          frame.src = url;\n",
       "        })();\n",
       "      </script>\n",
       "  "
      ],
      "text/plain": [
       "<IPython.core.display.HTML object>"
      ]
     },
     "metadata": {},
     "output_type": "display_data"
    }
   ],
   "source": [
    "%load_ext tensorboard\n",
    "%tensorboard --logdir=./my_logs --port=6006"
   ]
  },
  {
   "cell_type": "code",
   "execution_count": 56,
   "metadata": {},
   "outputs": [],
   "source": [
    "import tensorflow as tf\n",
    "\n",
    "test_logdir= get_run_logdir()\n",
    "writer = tf.summary.create_file_writer(test_logdir)\n",
    "with writer.as_default():\n",
    "    for step in range(1, 1000+1):\n",
    "        tf.summary.scalar(\"my_scalar\", np.sin(step / 10), step=step)\n",
    "        data = (np.random.randn(100)+2) * step / 100\n",
    "        tf.summary.histogram(\"my_hist\", data, buckets=50, step=step)\n",
    "        images = np.random.rand(2, 32, 32, 3) # random images\n",
    "        tf.summary.image(\"my_images\", images*step/1000, step=step)\n",
    "        texts = [\"The step is \" + str(step), \"Its square is \" + str(step**2)]\n",
    "        tf.summary.text(\"my_text\", texts, step=step)\n",
    "        sine_wave = tf.math.sin(tf.range(12000) / 48000 * 2 * np.pi * step)\n",
    "        audio = tf.reshape(tf.cast(sine_wave, tf.float32), [1, -1, 1])\n",
    "        tf.summary.audio(\"my_audio\", audio, sample_rate=48000, step=step)"
   ]
  },
  {
   "cell_type": "code",
   "execution_count": 58,
   "metadata": {},
   "outputs": [
    {
     "name": "stdout",
     "output_type": "stream",
     "text": [
      "Train on 11610 samples, validate on 3870 samples\n",
      "Epoch 1/100\n",
      "11610/11610 [==============================] - 1s 74us/sample - loss: 1.4936 - val_loss: 0.6295\n",
      "Epoch 2/100\n",
      "11610/11610 [==============================] - 1s 52us/sample - loss: 0.7000 - val_loss: 0.5723\n",
      "Epoch 3/100\n",
      "11610/11610 [==============================] - 0s 39us/sample - loss: 0.6154 - val_loss: 0.5283\n",
      "Epoch 4/100\n",
      "11610/11610 [==============================] - 0s 40us/sample - loss: 0.5777 - val_loss: 0.5069\n",
      "Epoch 5/100\n",
      "11610/11610 [==============================] - 0s 40us/sample - loss: 0.5536 - val_loss: 0.4893\n",
      "Epoch 6/100\n",
      "11610/11610 [==============================] - 0s 40us/sample - loss: 0.5369 - val_loss: 0.4755\n",
      "Epoch 7/100\n",
      "11610/11610 [==============================] - 0s 40us/sample - loss: 0.5219 - val_loss: 0.4647\n",
      "Epoch 8/100\n",
      "11610/11610 [==============================] - 0s 40us/sample - loss: 0.5096 - val_loss: 0.4531\n",
      "Epoch 9/100\n",
      "11610/11610 [==============================] - 0s 40us/sample - loss: 0.5000 - val_loss: 0.4450\n",
      "Epoch 10/100\n",
      "11610/11610 [==============================] - 0s 39us/sample - loss: 0.4918 - val_loss: 0.4383\n",
      "Epoch 11/100\n",
      "11610/11610 [==============================] - 0s 39us/sample - loss: 0.4840 - val_loss: 0.4300\n",
      "Epoch 12/100\n",
      "11610/11610 [==============================] - 0s 40us/sample - loss: 0.4776 - val_loss: 0.4263\n",
      "Epoch 13/100\n",
      "11610/11610 [==============================] - 0s 40us/sample - loss: 0.4725 - val_loss: 0.4204\n",
      "Epoch 14/100\n",
      "11610/11610 [==============================] - 0s 40us/sample - loss: 0.4678 - val_loss: 0.4180\n",
      "Epoch 15/100\n",
      "11610/11610 [==============================] - 0s 40us/sample - loss: 0.4635 - val_loss: 0.4137\n",
      "Epoch 16/100\n",
      "11610/11610 [==============================] - 0s 40us/sample - loss: 0.4600 - val_loss: 0.4140\n",
      "Epoch 17/100\n",
      "11610/11610 [==============================] - 0s 40us/sample - loss: 0.4566 - val_loss: 0.4079\n",
      "Epoch 18/100\n",
      "11610/11610 [==============================] - 0s 40us/sample - loss: 0.4536 - val_loss: 0.4052\n",
      "Epoch 19/100\n",
      "11610/11610 [==============================] - 0s 39us/sample - loss: 0.4501 - val_loss: 0.4008\n",
      "Epoch 20/100\n",
      "11610/11610 [==============================] - 0s 40us/sample - loss: 0.4482 - val_loss: 0.3995\n",
      "Epoch 21/100\n",
      "11610/11610 [==============================] - 0s 40us/sample - loss: 0.4453 - val_loss: 0.3964\n",
      "Epoch 22/100\n",
      "11610/11610 [==============================] - 0s 40us/sample - loss: 0.4431 - val_loss: 0.3937\n",
      "Epoch 23/100\n",
      "11610/11610 [==============================] - 0s 40us/sample - loss: 0.4410 - val_loss: 0.3918\n",
      "Epoch 24/100\n",
      "11610/11610 [==============================] - 0s 39us/sample - loss: 0.4390 - val_loss: 0.3916\n",
      "Epoch 25/100\n",
      "11610/11610 [==============================] - 0s 40us/sample - loss: 0.4376 - val_loss: 0.3891\n",
      "Epoch 26/100\n",
      "11610/11610 [==============================] - 0s 40us/sample - loss: 0.4351 - val_loss: 0.3871\n",
      "Epoch 27/100\n",
      "11610/11610 [==============================] - 0s 39us/sample - loss: 0.4337 - val_loss: 0.3863\n",
      "Epoch 28/100\n",
      "11610/11610 [==============================] - 0s 39us/sample - loss: 0.4320 - val_loss: 0.3844\n",
      "Epoch 29/100\n",
      "11610/11610 [==============================] - 0s 40us/sample - loss: 0.4299 - val_loss: 0.3838\n",
      "Epoch 30/100\n",
      "11610/11610 [==============================] - 0s 40us/sample - loss: 0.4277 - val_loss: 0.3828\n",
      "Epoch 31/100\n",
      "11610/11610 [==============================] - 0s 40us/sample - loss: 0.4271 - val_loss: 0.3816\n",
      "Epoch 32/100\n",
      "11610/11610 [==============================] - 0s 40us/sample - loss: 0.4253 - val_loss: 0.3793\n",
      "Epoch 33/100\n",
      "11610/11610 [==============================] - 0s 40us/sample - loss: 0.4227 - val_loss: 0.3865\n",
      "Epoch 34/100\n",
      "11610/11610 [==============================] - 0s 39us/sample - loss: 0.4229 - val_loss: 0.3792\n",
      "Epoch 35/100\n",
      "11610/11610 [==============================] - 0s 40us/sample - loss: 0.4231 - val_loss: 0.3781\n",
      "Epoch 36/100\n",
      "11610/11610 [==============================] - 0s 38us/sample - loss: 0.4199 - val_loss: 0.3749\n",
      "Epoch 37/100\n",
      "11610/11610 [==============================] - 0s 40us/sample - loss: 0.4180 - val_loss: 0.3745\n",
      "Epoch 38/100\n",
      "11610/11610 [==============================] - 0s 41us/sample - loss: 0.4170 - val_loss: 0.3706\n",
      "Epoch 39/100\n",
      "11610/11610 [==============================] - 0s 40us/sample - loss: 0.4156 - val_loss: 0.3726\n",
      "Epoch 40/100\n",
      "11610/11610 [==============================] - 0s 40us/sample - loss: 0.4134 - val_loss: 0.3711\n",
      "Epoch 41/100\n",
      "11610/11610 [==============================] - 0s 40us/sample - loss: 0.4126 - val_loss: 0.3737\n",
      "Epoch 42/100\n",
      "11610/11610 [==============================] - 0s 39us/sample - loss: 0.4117 - val_loss: 0.3679\n",
      "Epoch 43/100\n",
      "11610/11610 [==============================] - 0s 38us/sample - loss: 0.4101 - val_loss: 0.3657\n",
      "Epoch 44/100\n",
      "11610/11610 [==============================] - 0s 40us/sample - loss: 0.4081 - val_loss: 0.3669\n",
      "Epoch 45/100\n",
      "11610/11610 [==============================] - 0s 40us/sample - loss: 0.4074 - val_loss: 0.3638\n",
      "Epoch 46/100\n",
      "11610/11610 [==============================] - 0s 39us/sample - loss: 0.4064 - val_loss: 0.3626\n",
      "Epoch 47/100\n",
      "11610/11610 [==============================] - 0s 40us/sample - loss: 0.4093 - val_loss: 0.3637\n",
      "Epoch 48/100\n",
      "11610/11610 [==============================] - 0s 39us/sample - loss: 0.4044 - val_loss: 0.3618\n",
      "Epoch 49/100\n",
      "11610/11610 [==============================] - 0s 40us/sample - loss: 0.4028 - val_loss: 0.3662\n",
      "Epoch 50/100\n",
      "11610/11610 [==============================] - 0s 40us/sample - loss: 0.4013 - val_loss: 0.3623\n",
      "Epoch 51/100\n",
      "11610/11610 [==============================] - 0s 41us/sample - loss: 0.4007 - val_loss: 0.3599\n",
      "Epoch 52/100\n",
      "11610/11610 [==============================] - 0s 39us/sample - loss: 0.3990 - val_loss: 0.3617\n",
      "Epoch 53/100\n",
      "11610/11610 [==============================] - 0s 41us/sample - loss: 0.3982 - val_loss: 0.3568\n",
      "Epoch 54/100\n",
      "11610/11610 [==============================] - 0s 40us/sample - loss: 0.3971 - val_loss: 0.3572\n",
      "Epoch 55/100\n",
      "11610/11610 [==============================] - 0s 39us/sample - loss: 0.3965 - val_loss: 0.3558\n",
      "Epoch 56/100\n",
      "11610/11610 [==============================] - 0s 39us/sample - loss: 0.3945 - val_loss: 0.3557\n",
      "Epoch 57/100\n",
      "11610/11610 [==============================] - 0s 39us/sample - loss: 0.3938 - val_loss: 0.3546\n",
      "Epoch 58/100\n",
      "11610/11610 [==============================] - 0s 39us/sample - loss: 0.3927 - val_loss: 0.3552\n",
      "Epoch 59/100\n",
      "11610/11610 [==============================] - 0s 39us/sample - loss: 0.3923 - val_loss: 0.3546\n",
      "Epoch 60/100\n",
      "11610/11610 [==============================] - 0s 42us/sample - loss: 0.3923 - val_loss: 0.3563\n",
      "Epoch 61/100\n",
      "11610/11610 [==============================] - 0s 39us/sample - loss: 0.3942 - val_loss: 0.3521\n",
      "Epoch 62/100\n",
      "11610/11610 [==============================] - 0s 40us/sample - loss: 0.3904 - val_loss: 0.3505\n",
      "Epoch 63/100\n",
      "11610/11610 [==============================] - 0s 39us/sample - loss: 0.3896 - val_loss: 0.3484\n",
      "Epoch 64/100\n",
      "11610/11610 [==============================] - 0s 40us/sample - loss: 0.3884 - val_loss: 0.3506\n",
      "Epoch 65/100\n",
      "11610/11610 [==============================] - 0s 39us/sample - loss: 0.3859 - val_loss: 0.3470\n",
      "Epoch 66/100\n",
      "11610/11610 [==============================] - 0s 39us/sample - loss: 0.3885 - val_loss: 0.3479\n",
      "Epoch 67/100\n",
      "11610/11610 [==============================] - 0s 39us/sample - loss: 0.3856 - val_loss: 0.3518\n",
      "Epoch 68/100\n",
      "11610/11610 [==============================] - 0s 41us/sample - loss: 0.4022 - val_loss: 0.3470\n",
      "Epoch 69/100\n",
      "11610/11610 [==============================] - 0s 42us/sample - loss: 0.3833 - val_loss: 0.3504\n",
      "Epoch 70/100\n",
      "11610/11610 [==============================] - 0s 40us/sample - loss: 0.3883 - val_loss: 0.3441\n",
      "Epoch 71/100\n",
      "11610/11610 [==============================] - 0s 39us/sample - loss: 0.3871 - val_loss: 0.3445\n",
      "Epoch 72/100\n",
      "11610/11610 [==============================] - 0s 39us/sample - loss: 0.3830 - val_loss: 0.3439\n",
      "Epoch 73/100\n",
      "11610/11610 [==============================] - 0s 39us/sample - loss: 0.3821 - val_loss: 0.3447\n",
      "Epoch 74/100\n",
      "11610/11610 [==============================] - 0s 41us/sample - loss: 0.3802 - val_loss: 0.3441\n",
      "Epoch 75/100\n",
      "11610/11610 [==============================] - 0s 39us/sample - loss: 0.3825 - val_loss: 0.3460\n"
     ]
    },
    {
     "name": "stdout",
     "output_type": "stream",
     "text": [
      "Epoch 76/100\n",
      "11610/11610 [==============================] - 0s 39us/sample - loss: 0.3808 - val_loss: 0.3412\n",
      "Epoch 77/100\n",
      "11610/11610 [==============================] - 0s 40us/sample - loss: 0.3798 - val_loss: 0.3425\n",
      "Epoch 78/100\n",
      "11610/11610 [==============================] - 0s 40us/sample - loss: 0.3780 - val_loss: 0.3400\n",
      "Epoch 79/100\n",
      "11610/11610 [==============================] - 0s 40us/sample - loss: 0.3779 - val_loss: 0.3406\n",
      "Epoch 80/100\n",
      "11610/11610 [==============================] - 1s 46us/sample - loss: 0.3761 - val_loss: 0.3398\n",
      "Epoch 81/100\n",
      "11610/11610 [==============================] - 1s 47us/sample - loss: 0.3806 - val_loss: 0.3399\n",
      "Epoch 82/100\n",
      "11610/11610 [==============================] - 1s 52us/sample - loss: 0.3787 - val_loss: 0.3369\n",
      "Epoch 83/100\n",
      "11610/11610 [==============================] - 1s 46us/sample - loss: 0.3720 - val_loss: 0.3388\n",
      "Epoch 84/100\n",
      "11610/11610 [==============================] - 0s 41us/sample - loss: 0.3753 - val_loss: 0.3387\n",
      "Epoch 85/100\n",
      "11610/11610 [==============================] - 0s 40us/sample - loss: 0.3824 - val_loss: 0.3378\n",
      "Epoch 86/100\n",
      "11610/11610 [==============================] - 0s 43us/sample - loss: 0.3738 - val_loss: 0.3624\n",
      "Epoch 87/100\n",
      "11610/11610 [==============================] - 0s 41us/sample - loss: 0.3792 - val_loss: 0.3347\n",
      "Epoch 88/100\n",
      "11610/11610 [==============================] - 0s 41us/sample - loss: 0.3762 - val_loss: 0.3342\n",
      "Epoch 89/100\n",
      "11610/11610 [==============================] - 0s 40us/sample - loss: 0.3693 - val_loss: 0.3342\n",
      "Epoch 90/100\n",
      "11610/11610 [==============================] - 0s 42us/sample - loss: 0.3709 - val_loss: 0.3369\n",
      "Epoch 91/100\n",
      "11610/11610 [==============================] - 0s 40us/sample - loss: 0.3741 - val_loss: 0.3338\n",
      "Epoch 92/100\n",
      "11610/11610 [==============================] - 1s 49us/sample - loss: 0.3695 - val_loss: 0.3404\n",
      "Epoch 93/100\n",
      "11610/11610 [==============================] - 1s 87us/sample - loss: 0.3667 - val_loss: 0.3305\n",
      "Epoch 94/100\n",
      "11610/11610 [==============================] - 1s 96us/sample - loss: 0.3677 - val_loss: 0.3329\n",
      "Epoch 95/100\n",
      "11610/11610 [==============================] - 1s 70us/sample - loss: 0.3664 - val_loss: 0.3323\n",
      "Epoch 96/100\n",
      "11610/11610 [==============================] - 0s 40us/sample - loss: 0.3729 - val_loss: 0.3598\n",
      "Epoch 97/100\n",
      "11610/11610 [==============================] - 1s 71us/sample - loss: 0.3661 - val_loss: 0.3258\n",
      "Epoch 98/100\n",
      "11610/11610 [==============================] - 1s 93us/sample - loss: 0.3628 - val_loss: 0.3291\n",
      "Epoch 99/100\n",
      "11610/11610 [==============================] - 1s 107us/sample - loss: 0.3719 - val_loss: 0.3270\n",
      "Epoch 100/100\n",
      "11610/11610 [==============================] - 2s 133us/sample - loss: 0.3720 - val_loss: 0.3256\n",
      "5160/5160 [==============================] - 0s 19us/sample - loss: 0.3345\n"
     ]
    }
   ],
   "source": [
    "# build a mimic of an sklearn regressor\n",
    "\n",
    "def build_model(n_hidden=1, n_neurons=30, learning_rate=3e-3, input_shape=[8]):\n",
    "    model = keras.models.Sequential()\n",
    "    model.add(keras.layers.InputLayer(input_shape=input_shape))\n",
    "    for layer in range(n_hidden):\n",
    "        model.add(keras.layers.Dense(n_neurons, activation=\"relu\"))\n",
    "    model.add(keras.layers.Dense(1))\n",
    "    optimizer = keras.optimizers.SGD(lr=learning_rate)\n",
    "    model.compile(loss=\"mse\", optimizer=optimizer)\n",
    "    return model\n",
    "\n",
    "# create a regressor with this function\n",
    "\n",
    "keras_reg = keras.wrappers.scikit_learn.KerasRegressor(build_model)\n",
    "\n",
    "keras_reg.fit(\n",
    "    x_train, \n",
    "    y_train, \n",
    "    epochs=100, \n",
    "    validation_data=(x_valid, y_valid), \n",
    "    callbacks=[keras.callbacks.EarlyStopping(patience=10)]\n",
    ")\n",
    "\n",
    "mse_test = keras_reg.score(x_test, y_test)\n",
    "y_pred = keras_reg.predict(x_new)"
   ]
  },
  {
   "cell_type": "code",
   "execution_count": 59,
   "metadata": {},
   "outputs": [
    {
     "data": {
      "text/plain": [
       "array([2.3216228, 2.4811754, 1.094378 ], dtype=float32)"
      ]
     },
     "execution_count": 59,
     "metadata": {},
     "output_type": "execute_result"
    }
   ],
   "source": [
    "from scipy.stats import reciprocal\n",
    "from sklearn.model_selection import RandomizedSearchCV\n",
    "\n",
    "param_distribs = {\n",
    "    \"n_hidden\" : [0,1,2,3],\n",
    "    \"n_neurons\" : np.arange(1, 100),\n",
    "    \"learning_rate\" : reciprocal(3e-4, 3e-2)\n",
    "}\n",
    "rnd_search_cv = RandomizedSearchCV(keras_reg, param_distribs, n_iter=10, cv=3)\n",
    "rnd_search_cv.fit(\n",
    "    x_train, \n",
    "    y_train, \n",
    "    epochs=100, \n",
    "    validation_data=(x_valid, y_valid),\n",
    "    callbacks=[keras.callbacks.EarlyStopping(patience=10)]\n",
    ")"
   ]
  },
  {
   "cell_type": "code",
   "execution_count": null,
   "metadata": {},
   "outputs": [],
   "source": [
    "print(rnd_search_cv.best_params_)\n",
    "print(rnd_search_cv.best_score_)"
   ]
  }
 ],
 "metadata": {
  "kernelspec": {
   "display_name": "Python 3",
   "language": "python",
   "name": "python3"
  },
  "language_info": {
   "codemirror_mode": {
    "name": "ipython",
    "version": 3
   },
   "file_extension": ".py",
   "mimetype": "text/x-python",
   "name": "python",
   "nbconvert_exporter": "python",
   "pygments_lexer": "ipython3",
   "version": "3.6.1"
  }
 },
 "nbformat": 4,
 "nbformat_minor": 4
}
